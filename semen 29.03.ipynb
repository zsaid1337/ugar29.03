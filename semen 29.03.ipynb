{
 "cells": [
  {
   "cell_type": "code",
   "execution_count": null,
   "id": "0c64b64d",
   "metadata": {},
   "outputs": [],
   "source": [
    "\n",
    "#FORD BELLMAUR\n",
    "\n",
    "\n",
    "\n"
   ]
  },
  {
   "cell_type": "code",
   "execution_count": 8,
   "id": "dd963bc8",
   "metadata": {},
   "outputs": [],
   "source": [
    "edge_list = [\n",
    "    [0, 1],\n",
    "    [1, 3], [1, 6],\n",
    "    [3, 2], [3, 7],\n",
    "    [4, 2],\n",
    "    [6, 3],\n",
    "    [7, 4], [7, 5]\n",
    "]"
   ]
  },
  {
   "cell_type": "code",
   "execution_count": 9,
   "id": "fb702fa2",
   "metadata": {},
   "outputs": [],
   "source": [
    "vert_num = 8\n",
    "BIG_NUM = 10**6\n",
    "\n",
    "weight_list = [\n",
    "    5.0, 12.0, 3.8, 7.0, 1.0, 2.0, 4.0, 10.0, 3.0\n",
    "]"
   ]
  },
  {
   "cell_type": "code",
   "execution_count": 10,
   "id": "8884d575",
   "metadata": {},
   "outputs": [
    {
     "name": "stdout",
     "output_type": "stream",
     "text": [
      "[0, 5.0, 19.8, 12.8, 23.8, 16.8, 8.8, 13.8]\n"
     ]
    }
   ],
   "source": [
    "dist = [BIG_NUM for _ in range(vert_num)]\n",
    "parents = [None for _ in range(vert_num)]\n",
    "\n",
    "\n",
    "def construct_adj_matrix(edge_list, weight_list, vert_num):\n",
    "    adj_matrix = [[BIG_NUM for _ in range(vert_num)] for _ in range(vert_num)]\n",
    "    for edge, weight in zip(edge_list, weight_list):\n",
    "        src = edge[0]\n",
    "        dest = edge[1]\n",
    "        adj_matrix[src][dest] = weight\n",
    "    return adj_matrix\n",
    "\n",
    "\n",
    "def Bellman_Ford(edge_list, src):\n",
    "    dist[src] = 0\n",
    "    for i in range(vert_num - 1):\n",
    "        for edge in edge_list:\n",
    "            v, u = edge[0], edge[1]\n",
    "            if dist[u] > dist[v] + adj_matrix[v][u]:\n",
    "                dist[u] = dist[v] + adj_matrix[v][u]\n",
    "                parents[u] = v\n",
    "    return dist\n",
    "\n",
    "\n",
    "adj_matrix = construct_adj_matrix(edge_list, weight_list, vert_num)\n",
    "print(Bellman_Ford(edge_list, 0))"
   ]
  },
  {
   "cell_type": "code",
   "execution_count": null,
   "id": "141af53a",
   "metadata": {},
   "outputs": [],
   "source": []
  },
  {
   "cell_type": "code",
   "execution_count": null,
   "id": "6e25b776",
   "metadata": {},
   "outputs": [],
   "source": []
  },
  {
   "cell_type": "code",
   "execution_count": null,
   "id": "745669d6",
   "metadata": {},
   "outputs": [],
   "source": []
  },
  {
   "cell_type": "code",
   "execution_count": null,
   "id": "a2aa4b5a",
   "metadata": {},
   "outputs": [],
   "source": []
  }
 ],
 "metadata": {
  "kernelspec": {
   "display_name": "Python 3 (ipykernel)",
   "language": "python",
   "name": "python3"
  },
  "language_info": {
   "codemirror_mode": {
    "name": "ipython",
    "version": 3
   },
   "file_extension": ".py",
   "mimetype": "text/x-python",
   "name": "python",
   "nbconvert_exporter": "python",
   "pygments_lexer": "ipython3",
   "version": "3.11.5"
  }
 },
 "nbformat": 4,
 "nbformat_minor": 5
}
